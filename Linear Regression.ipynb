{
 "cells": [
  {
   "cell_type": "code",
   "execution_count": 2,
   "metadata": {},
   "outputs": [],
   "source": [
    "import pandas as pd\n",
    "import numpy as np\n",
    "import sklearn\n",
    "from sklearn import linear_model\n",
    "from sklearn.utils import shuffle"
   ]
  },
  {
   "cell_type": "code",
   "execution_count": 3,
   "metadata": {},
   "outputs": [],
   "source": [
    "#Loading in Our Data"
   ]
  },
  {
   "cell_type": "code",
   "execution_count": 4,
   "metadata": {},
   "outputs": [],
   "source": [
    "data = pd.read_csv(\"student-mat.csv\", sep=\";\")\n",
    "# Since our data is seperated by semicolons we need to do sep=\";\""
   ]
  },
  {
   "cell_type": "code",
   "execution_count": 5,
   "metadata": {},
   "outputs": [],
   "source": [
    "#To see our data frame we can type:"
   ]
  },
  {
   "cell_type": "code",
   "execution_count": 6,
   "metadata": {},
   "outputs": [
    {
     "name": "stdout",
     "output_type": "stream",
     "text": [
      "  school sex  age address famsize Pstatus  Medu  Fedu     Mjob      Fjob  ...  \\\n",
      "0     GP   F   18       U     GT3       A     4     4  at_home   teacher  ...   \n",
      "1     GP   F   17       U     GT3       T     1     1  at_home     other  ...   \n",
      "2     GP   F   15       U     LE3       T     1     1  at_home     other  ...   \n",
      "3     GP   F   15       U     GT3       T     4     2   health  services  ...   \n",
      "4     GP   F   16       U     GT3       T     3     3    other     other  ...   \n",
      "\n",
      "  famrel freetime  goout  Dalc  Walc health absences  G1  G2  G3  \n",
      "0      4        3      4     1     1      3        6   5   6   6  \n",
      "1      5        3      3     1     1      3        4   5   5   6  \n",
      "2      4        3      2     2     3      3       10   7   8  10  \n",
      "3      3        2      2     1     1      5        2  15  14  15  \n",
      "4      4        3      2     1     2      5        4   6  10  10  \n",
      "\n",
      "[5 rows x 33 columns]\n"
     ]
    }
   ],
   "source": [
    "print(data.head())"
   ]
  },
  {
   "cell_type": "code",
   "execution_count": 7,
   "metadata": {},
   "outputs": [],
   "source": [
    "#Trimming Our Data"
   ]
  },
  {
   "cell_type": "code",
   "execution_count": 8,
   "metadata": {},
   "outputs": [],
   "source": [
    "data = data[[\"G1\", \"G2\", \"G3\", \"studytime\", \"failures\", \"absences\"]]\n"
   ]
  },
  {
   "cell_type": "code",
   "execution_count": 9,
   "metadata": {},
   "outputs": [],
   "source": [
    "#Separating Our Data"
   ]
  },
  {
   "cell_type": "code",
   "execution_count": 38,
   "metadata": {},
   "outputs": [],
   "source": [
    "predict = \"G3\"\n",
    "\n",
    "X = np.array(data.drop([predict], 1)) # Features\n",
    "y = np.array(data[predict]) # Labels"
   ]
  },
  {
   "cell_type": "code",
   "execution_count": 39,
   "metadata": {},
   "outputs": [],
   "source": [
    "#After this we need to split our data into testing and training data. We will use 90% of our data\n",
    "# to train and the other 10% to test.\n",
    "# The reason we do this is so that we do not test our model on data that it has already seen."
   ]
  },
  {
   "cell_type": "code",
   "execution_count": 40,
   "metadata": {},
   "outputs": [],
   "source": [
    "x_train, x_test, y_train, y_test = sklearn.model_selection.train_test_split(X, y, test_size = 0.1)"
   ]
  },
  {
   "cell_type": "code",
   "execution_count": 41,
   "metadata": {},
   "outputs": [],
   "source": [
    "#Now we are ready to implement the linear regression algorithm"
   ]
  },
  {
   "cell_type": "code",
   "execution_count": null,
   "metadata": {},
   "outputs": [],
   "source": []
  },
  {
   "cell_type": "code",
   "execution_count": 42,
   "metadata": {},
   "outputs": [],
   "source": [
    "linear = linear_model.LinearRegression()"
   ]
  },
  {
   "cell_type": "code",
   "execution_count": 43,
   "metadata": {},
   "outputs": [],
   "source": [
    "#Next we will train and score our model using the arrays we created in the previous tutorial."
   ]
  },
  {
   "cell_type": "code",
   "execution_count": 50,
   "metadata": {},
   "outputs": [],
   "source": [
    "linear.fit(x_train, y_train)\n",
    "acc = linear.score(x_test, y_test) # acc stands for accuracy \n",
    " "
   ]
  },
  {
   "cell_type": "code",
   "execution_count": 45,
   "metadata": {},
   "outputs": [
    {
     "name": "stdout",
     "output_type": "stream",
     "text": [
      "0.8133995712501905\n"
     ]
    }
   ],
   "source": [
    "print(acc)"
   ]
  },
  {
   "cell_type": "code",
   "execution_count": 20,
   "metadata": {},
   "outputs": [],
   "source": [
    "# For this specific data set a score of above 80% is fairly good."
   ]
  },
  {
   "cell_type": "code",
   "execution_count": 46,
   "metadata": {},
   "outputs": [],
   "source": [
    "# Viewing The Constants"
   ]
  },
  {
   "cell_type": "code",
   "execution_count": 47,
   "metadata": {},
   "outputs": [
    {
     "name": "stdout",
     "output_type": "stream",
     "text": [
      "Coefficient: \n",
      " [ 0.17737395  0.9631729  -0.25480871 -0.22842731  0.03322459]\n",
      "Intercept: \n",
      " -1.4060705555183262\n"
     ]
    }
   ],
   "source": [
    "print('Coefficient: \\n', linear.coef_) # These are each slope value\n",
    "print('Intercept: \\n', linear.intercept_) # This is the intercept"
   ]
  },
  {
   "cell_type": "code",
   "execution_count": 48,
   "metadata": {},
   "outputs": [],
   "source": [
    "# Seeing a score value is cool but I'd like to see how well our algorithm works on specific students.\n",
    "# To do this we are going to print out all of our test data. \n",
    "# Beside this data we will print the actual final grade and our models predicted grade."
   ]
  },
  {
   "cell_type": "code",
   "execution_count": 49,
   "metadata": {},
   "outputs": [
    {
     "name": "stdout",
     "output_type": "stream",
     "text": [
      "9.157006237775738 [ 7 10  2  0  6] 10\n",
      "10.187759917109998 [11 10  1  0  8] 10\n",
      "9.267931003727027 [ 8 10  2  0  4] 10\n",
      "19.437926919567392 [18 18  1  1 24] 18\n",
      "6.788092964085076 [ 7  7  1  0 14] 5\n",
      "12.977870268456163 [13 13  2  0  2] 13\n",
      "8.659505997030845 [10  9  2  0  4] 9\n",
      "12.623122372718303 [11 13  2  0  2] 13\n",
      "11.582514712212292 [12 12  3  0  2] 11\n",
      "8.973660166663052 [10  9  3  1 28] 9\n",
      "10.985075281670435 [13 11  2  0  0] 10\n",
      "3.7623743230473803 [6 5 1 2 0] 0\n",
      "7.736978720464506 [7 9 2 2 6] 8\n",
      "5.691420936674172 [7 7 4 0 4] 6\n",
      "10.524416072891857 [13 10  2  1 22] 11\n",
      "6.160707593795474 [ 6  7  2  1 15] 8\n",
      "13.6755866785914 [13 13  2  0 23] 13\n",
      "8.52660763319556 [10  9  2  0  0] 0\n",
      "7.020327311000402 [8 8 3 0 2] 10\n",
      "8.080210206207044 [ 6  9  1  2 14] 8\n",
      "16.543394759354694 [15 16  1  0  4] 15\n",
      "19.13476077166485 [18 18  1  0  8] 18\n",
      "3.9199446479500235 [5 5 2 0 4] 6\n",
      "3.7359929245450756 [6 5 2 1 0] 0\n",
      "12.480104610790772 [14 12  1  0  3] 12\n",
      "7.563434730761518 [10  8  2  0  0] 9\n",
      "6.880320337788103 [6 8 1 1 0] 8\n",
      "18.07104791829227 [16 18  3  0  2] 18\n",
      "11.320597396894378 [10 12  2  1  4] 12\n",
      "8.087316370008718 [7 9 1 1 2] 8\n",
      "12.800496320587232 [12 13  2  0  2] 12\n",
      "3.533947015608785 [6 5 1 3 0] 0\n",
      "6.012678824532711 [7 7 3 0 6] 7\n",
      "4.163767777736595 [6 5 2 0 6] 6\n",
      "4.065540470949919 [ 6  5  1  3 16] 5\n",
      "15.015140839275539 [14 15  2  0  0] 15\n",
      "11.84830899430752 [11 12  1  0  0] 10\n",
      "8.47442267864332 [ 7 10  3  1  0] 10\n",
      "16.39951081936508 [16 16  2  0  2] 17\n",
      "10.087219966171459 [ 9 11  3  0  2] 11\n"
     ]
    }
   ],
   "source": [
    "predictions = linear.predict(x_test)\n",
    "\n",
    "for x in range(len(predictions)):\n",
    "    print( predictions[x], x_test[x], y_test[x])"
   ]
  },
  {
   "cell_type": "code",
   "execution_count": null,
   "metadata": {},
   "outputs": [],
   "source": []
  }
 ],
 "metadata": {
  "kernelspec": {
   "display_name": "Python 3",
   "language": "python",
   "name": "python3"
  },
  "language_info": {
   "codemirror_mode": {
    "name": "ipython",
    "version": 3
   },
   "file_extension": ".py",
   "mimetype": "text/x-python",
   "name": "python",
   "nbconvert_exporter": "python",
   "pygments_lexer": "ipython3",
   "version": "3.7.6"
  }
 },
 "nbformat": 4,
 "nbformat_minor": 4
}
