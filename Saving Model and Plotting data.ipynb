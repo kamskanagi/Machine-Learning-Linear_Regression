{
 "cells": [
  {
   "cell_type": "code",
   "execution_count": 1,
   "metadata": {},
   "outputs": [],
   "source": [
    "#Installing Packages\n",
    "#In this tutorial we will need to install one more module called matplotlib. \n",
    "\n",
    "#We will also be using the module pickle that does not need to be installed."
   ]
  },
  {
   "cell_type": "code",
   "execution_count": 17,
   "metadata": {},
   "outputs": [],
   "source": [
    "#Import Libraries\n",
    "import numpy as np\n",
    "import pandas as pd\n",
    "from sklearn import linear_model\n",
    "import sklearn\n",
    "from sklearn.utils import shuffle\n",
    "\n",
    "\n",
    "import matplotlib.pyplot as plt\n",
    "from matplotlib import style\n",
    "import pickle"
   ]
  },
  {
   "cell_type": "code",
   "execution_count": 18,
   "metadata": {},
   "outputs": [],
   "source": [
    "#Loading in Our Data"
   ]
  },
  {
   "cell_type": "code",
   "execution_count": 19,
   "metadata": {},
   "outputs": [],
   "source": [
    "data = pd.read_csv(\"student-mat.csv\", sep=\";\")\n",
    "# Since our data is seperated by semicolons we need to do sep=\";\""
   ]
  },
  {
   "cell_type": "code",
   "execution_count": 20,
   "metadata": {},
   "outputs": [
    {
     "name": "stdout",
     "output_type": "stream",
     "text": [
      "  school sex  age address famsize Pstatus  Medu  Fedu     Mjob      Fjob  ...  \\\n",
      "0     GP   F   18       U     GT3       A     4     4  at_home   teacher  ...   \n",
      "1     GP   F   17       U     GT3       T     1     1  at_home     other  ...   \n",
      "2     GP   F   15       U     LE3       T     1     1  at_home     other  ...   \n",
      "3     GP   F   15       U     GT3       T     4     2   health  services  ...   \n",
      "4     GP   F   16       U     GT3       T     3     3    other     other  ...   \n",
      "\n",
      "  famrel freetime  goout  Dalc  Walc health absences  G1  G2  G3  \n",
      "0      4        3      4     1     1      3        6   5   6   6  \n",
      "1      5        3      3     1     1      3        4   5   5   6  \n",
      "2      4        3      2     2     3      3       10   7   8  10  \n",
      "3      3        2      2     1     1      5        2  15  14  15  \n",
      "4      4        3      2     1     2      5        4   6  10  10  \n",
      "\n",
      "[5 rows x 33 columns]\n"
     ]
    }
   ],
   "source": [
    "print(data.head())"
   ]
  },
  {
   "cell_type": "code",
   "execution_count": 21,
   "metadata": {},
   "outputs": [],
   "source": [
    "data = data[[\"G1\", \"G2\", \"G3\", \"studytime\", \"failures\", \"absences\"]]"
   ]
  },
  {
   "cell_type": "code",
   "execution_count": 22,
   "metadata": {},
   "outputs": [],
   "source": [
    "predict = \"G3\"\n",
    "\n",
    "X = np.array(data.drop([predict], 1)) # Features\n",
    "y = np.array(data[predict]) # Labels\n",
    "\n"
   ]
  },
  {
   "cell_type": "code",
   "execution_count": 38,
   "metadata": {},
   "outputs": [
    {
     "name": "stdout",
     "output_type": "stream",
     "text": [
      "Accuracy: 0.7616259863540706\n",
      "Accuracy: 0.8121444307561494\n",
      "Accuracy: 0.9165067107438264\n",
      "Accuracy: 0.7460604123824951\n",
      "Accuracy: 0.7792744312222455\n",
      "Accuracy: 0.9085791982686082\n",
      "Accuracy: 0.8522058451184884\n",
      "Accuracy: 0.7462055657128844\n",
      "Accuracy: 0.8939522401234155\n",
      "Accuracy: 0.8619568920051902\n",
      "Accuracy: 0.8510083357128349\n",
      "Accuracy: 0.8736033819474814\n",
      "Accuracy: 0.9363222039330057\n",
      "Accuracy: 0.8586960481233312\n",
      "Accuracy: 0.8833349549916903\n",
      "Accuracy: 0.8572876836160533\n",
      "Accuracy: 0.8515766262347484\n",
      "Accuracy: 0.8406798688441118\n",
      "Accuracy: 0.8808824618921076\n",
      "Accuracy: 0.8564729762388471\n"
     ]
    }
   ],
   "source": [
    "# TRAIN MODEL MULTIPLE TIMES FOR BEST SCORE\n",
    "best = 0\n",
    "for _ in range(20):\n",
    "    x_train, x_test, y_train, y_test = sklearn.model_selection.train_test_split(X, y, test_size = 0.1)\n",
    "    \n",
    "    linear = linear_model.LinearRegression()\n",
    "\n",
    "    linear.fit(x_train, y_train)\n",
    "    acc = linear.score(x_test, y_test) # acc stands for accuracy \n",
    "    print(\"Accuracy: \" + str(acc))\n",
    "    \n",
    "         # If the current model has a better score than one we've already trained then save it\n",
    "    if acc > best:\n",
    "        best = acc\n",
    "        with open(\"studentmodel.pickle\", \"wb\") as f:\n",
    "            pickle.dump(linear, f)"
   ]
  },
  {
   "cell_type": "code",
   "execution_count": null,
   "metadata": {},
   "outputs": [],
   "source": [
    "   "
   ]
  },
  {
   "cell_type": "code",
   "execution_count": 25,
   "metadata": {},
   "outputs": [],
   "source": [
    "pickle_in = open(\"studentmodel.pickle\", \"rb\")"
   ]
  },
  {
   "cell_type": "code",
   "execution_count": 26,
   "metadata": {},
   "outputs": [],
   "source": [
    "#Load the pickle in the linear model"
   ]
  },
  {
   "cell_type": "code",
   "execution_count": 27,
   "metadata": {},
   "outputs": [],
   "source": [
    "linear= pickle.load(pickle_in)"
   ]
  },
  {
   "cell_type": "code",
   "execution_count": 28,
   "metadata": {},
   "outputs": [
    {
     "name": "stdout",
     "output_type": "stream",
     "text": [
      "Coefficient: \n",
      " [ 0.13524032  0.97183007 -0.17171599 -0.42392839  0.03602208]\n",
      "Intercept: \n",
      " -1.1613810000042353\n"
     ]
    }
   ],
   "source": [
    "print('Coefficient: \\n', linear.coef_) # These are each slope value\n",
    "print('Intercept: \\n', linear.intercept_) # This is the intercept"
   ]
  },
  {
   "cell_type": "code",
   "execution_count": 29,
   "metadata": {},
   "outputs": [
    {
     "name": "stdout",
     "output_type": "stream",
     "text": [
      "8.564525573358102 [ 7 10  3  1  0] 10\n",
      "15.17328699419731 [15 15  2  0  2] 16\n",
      "5.4445656559110125 [7 6 1 0 0] 0\n",
      "7.351750125770083 [8 8 2 0 0] 0\n",
      "5.181967960448368 [ 6  6  2  1 13] 8\n",
      "14.03064812396369 [13 14  1  0  0] 14\n",
      "3.741850892001654 [6 5 2 1 0] 0\n",
      "5.1530049590001905 [7 7 2 3 5] 7\n",
      "9.00703460431439 [10  9  3  1 28] 9\n",
      "12.354081596578547 [10 13  4  0  6] 13\n",
      "14.966002523323633 [14 15  2  0  0] 16\n",
      "10.47605681246364 [ 9  9  2  0 56] 8\n",
      "18.295154487820405 [18 18  4  0  6] 18\n",
      "11.898795611583175 [14 11  1  0 18] 13\n",
      "18.45892967533331 [17 18  1  0  0] 18\n",
      "14.417589384289382 [15 14  2  0  8] 14\n",
      "9.57473889117241 [ 9 10  2  0  4] 10\n",
      "8.395624349799608 [8 9 2 0 2] 8\n",
      "10.672961289297298 [11 11  2  0  0] 10\n",
      "14.273501077228586 [15 14  2  0  4] 14\n",
      "4.632277363133242 [8 6 2 2 2] 5\n",
      "13.085362022617117 [10 13  1  0 12] 12\n",
      "17.180143299008442 [16 17  2  0  0] 17\n",
      "12.959146218512505 [13 13  2  0  2] 13\n",
      "9.701131218798173 [11 10  2  0  0] 10\n",
      "15.110090830384431 [14 15  2  0  4] 15\n",
      "11.132342435781725 [12 11  1  1 16] 12\n",
      "13.804130367011888 [12 14  3  0  7] 14\n",
      "15.17328699419731 [15 15  2  0  2] 16\n",
      "9.90841568967185 [12 10  2  0  2] 11\n",
      "11.059902549622988 [13 11  3  0  8] 11\n",
      "11.816507348278881 [11 12  1  0  0] 10\n",
      "16.280357382039718 [16 16  2  0  2] 16\n",
      "10.024876315310983 [12 10  3  0 10] 12\n",
      "5.540911269819486 [7 7 2 2 4] 9\n",
      "11.310660966923002 [ 9 12  3  0  3] 11\n",
      "8.250628853990852 [10  9  4  0  0] 0\n",
      "15.97340107621398 [15 16  3  0  2] 18\n",
      "-1.9286805645237828 [5 0 1 3 0] 0\n",
      "10.554509762641091 [10 11  4  0 10] 11\n"
     ]
    }
   ],
   "source": [
    "predictions = linear.predict(x_test)\n",
    "\n",
    "for x in range(len(predictions)):\n",
    "    print( predictions[x], x_test[x], y_test[x])"
   ]
  },
  {
   "cell_type": "code",
   "execution_count": 39,
   "metadata": {},
   "outputs": [],
   "source": [
    "#Plotting Our Data\n",
    "\n",
    "#To get a visual representation of our data we can plot it using the matplotlib library we installed earlier. \n",
    "#We are going to use a scatter plot to visualize our data."
   ]
  },
  {
   "cell_type": "code",
   "execution_count": 45,
   "metadata": {},
   "outputs": [
    {
     "name": "stderr",
     "output_type": "stream",
     "text": [
      "No handles with labels found to put in legend.\n"
     ]
    },
    {
     "data": {
      "image/png": "[encoded data removed]",
      "text/plain": [
       "<Figure size 432x288 with 1 Axes>"
      ]
     },
     "metadata": {},
     "output_type": "display_data"
    }
   ],
   "source": [
    "# Drawing and plotting model\n",
    "plot = \"absences\" # Change this to G1, G2, studytime or absences to see other graphs\n",
    "plt.scatter(data[plot], data[\"G3\"]) \n",
    "plt.legend(loc=4)\n",
    "plt.xlabel(plot)\n",
    "plt.ylabel(\"Final Grade\")\n",
    "plt.show()"
   ]
  },
  {
   "cell_type": "code",
   "execution_count": null,
   "metadata": {},
   "outputs": [],
   "source": []
  }
 ],
 "metadata": {
  "kernelspec": {
   "display_name": "Python 3",
   "language": "python",
   "name": "python3"
  },
  "language_info": {
   "codemirror_mode": {
    "name": "ipython",
    "version": 3
   },
   "file_extension": ".py",
   "mimetype": "text/x-python",
   "name": "python",
   "nbconvert_exporter": "python",
   "pygments_lexer": "ipython3",
   "version": "3.7.6"
  }
 },
 "nbformat": 4,
 "nbformat_minor": 4
}
